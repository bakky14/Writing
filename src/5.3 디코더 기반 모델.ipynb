{
 "cells": [
  {
   "cell_type": "code",
   "execution_count": null,
   "id": "ea352356-1085-4c09-a441-91d9aef6f7e0",
   "metadata": {
    "scrolled": true
   },
   "outputs": [],
   "source": [
    "import torch \n",
    "from transformers import AutoTokenizer, AutoModelForCausalLM\n",
    "\n",
    "\n",
    "tokenizer = AutoTokenizer.from_pretrained(\"skt/kogpt2-base-v2\") \n",
    "model = AutoModelForCausalLM.from_pretrained(\"skt/kogpt2-base-v2\") "
   ]
  },
  {
   "cell_type": "code",
   "execution_count": null,
   "id": "ca777a94-7187-4f6e-beb1-730f7601ce87",
   "metadata": {},
   "outputs": [],
   "source": [
    "from datasets import load_dataset \n",
    "\n",
    "split_dict = {\n",
    "    \"train\": \"train[:8000]\",\n",
    "    \"test\": \"train[8000:10000]\",\n",
    "    \"unused\": \"train[10000:]\",\n",
    "}\n",
    "dataset = load_dataset(\"heegyu/kowikitext\", split=split_dict)\n",
    "del dataset[\"unused\"]\n",
    "dataset"
   ]
  },
  {
   "cell_type": "code",
   "execution_count": null,
   "id": "c799c11a-2caf-4495-84d5-d426bb8116d2",
   "metadata": {},
   "outputs": [],
   "source": [
    "tokenized_dataset = dataset.map(\n",
    "    lambda batch: tokenizer([f\"{ti}\\n{te}\" for ti, te in zip(batch[\"title\"], batch[\"text\"])]),\n",
    "    batched=True,\n",
    "    num_proc=2,\n",
    "    remove_columns=dataset['train'].column_names,\n",
    ")\n",
    "tokenized_dataset"
   ]
  },
  {
   "cell_type": "code",
   "execution_count": null,
   "id": "5fb8bcb2-26e9-41f5-9b22-3fd30b49f006",
   "metadata": {},
   "outputs": [],
   "source": [
    "max_length = 512\n",
    "def group_texts(batched_sample):\n",
    "    sample = {k: v[0] for k, v in batched_sample.items()}\n",
    "\n",
    "    if sample['input_ids'][-1] != tokenizer.eos_token_id:\n",
    "        for k in sample.keys():\n",
    "            sample[k].append(\n",
    "                tokenizer.eos_token_id if k == \"input_ids\" else sample[k][-1]\n",
    "            )\n",
    "\n",
    "    result = {k: [v[i: i + max_length] for i in range(0, len(v), max_length)] for k, v in sample.items()}\n",
    "    return result\n",
    "\n",
    "grouped_dataset = tokenized_dataset.map(\n",
    "    group_texts,\n",
    "    batched=True,\n",
    "    batch_size=1,\n",
    "    num_proc=2,\n",
    ")\n",
    "print(len(grouped_dataset['train'][0]['input_ids']))\n",
    "print(grouped_dataset)"
   ]
  },
  {
   "cell_type": "code",
   "execution_count": null,
   "id": "37fc1c78-360d-4e7e-9f6b-67250eb7a743",
   "metadata": {},
   "outputs": [],
   "source": [
    "from transformers import DataCollatorForLanguageModeling\n",
    "\n",
    "collator = DataCollatorForLanguageModeling(tokenizer=tokenizer, mlm=False)\n",
    "collator([grouped_dataset['train'][i] for i in range(1)])"
   ]
  }
 ],
 "metadata": {
  "kernelspec": {
   "display_name": "Python 3 (ipykernel)",
   "language": "python",
   "name": "python3"
  },
  "language_info": {
   "codemirror_mode": {
    "name": "ipython",
    "version": 3
   },
   "file_extension": ".py",
   "mimetype": "text/x-python",
   "name": "python",
   "nbconvert_exporter": "python",
   "pygments_lexer": "ipython3",
   "version": "3.9.18"
  }
 },
 "nbformat": 4,
 "nbformat_minor": 5
}
