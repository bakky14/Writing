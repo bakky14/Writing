{
  "cells": [
    {
      "cell_type": "markdown",
      "metadata": {
        "id": "view-in-github",
        "colab_type": "text"
      },
      "source": [
        "<a href=\"https://colab.research.google.com/github/bakky14/Writing/blob/main/src/3.1%20Datasets%20%EB%9D%BC%EC%9D%B4%EB%B8%8C%EB%9F%AC%EB%A6%AC%20%EA%B0%9C%EC%9A%94.ipynb\" target=\"_parent\"><img src=\"https://colab.research.google.com/assets/colab-badge.svg\" alt=\"Open In Colab\"/></a>"
      ]
    },
    {
      "cell_type": "markdown",
      "metadata": {
        "id": "647Bcw6sQgpK"
      },
      "source": [
        "# 3.1.1 Datasets 설치\n"
      ]
    },
    {
      "cell_type": "code",
      "source": [
        "from google.colab import drive\n",
        "drive.mount('/content/drive')"
      ],
      "metadata": {
        "id": "hWouZ8LfLmez"
      },
      "execution_count": null,
      "outputs": []
    },
    {
      "cell_type": "code",
      "execution_count": null,
      "metadata": {
        "id": "wba2spjoJEjh"
      },
      "outputs": [],
      "source": [
        "!pip install datasets==2.20.0"
      ]
    },
    {
      "cell_type": "markdown",
      "metadata": {
        "id": "cHOQLjTaNT21"
      },
      "source": [
        "# 3.1.2 Datasets 실습"
      ]
    },
    {
      "cell_type": "markdown",
      "source": [
        "### 데이터셋 다운로드\n",
        "https://huggingface.co/datasets/klue/klue"
      ],
      "metadata": {
        "id": "bcAbPuYgh9JW"
      }
    },
    {
      "cell_type": "code",
      "execution_count": null,
      "metadata": {
        "id": "X4Qjc-IrNaGw"
      },
      "outputs": [],
      "source": [
        "from datasets import load_dataset\n",
        "\n",
        "dataset = load_dataset(\"klue\", \"ynat\")"
      ]
    },
    {
      "cell_type": "code",
      "execution_count": null,
      "metadata": {
        "id": "CWJHnNFxXMIi"
      },
      "outputs": [],
      "source": [
        "from pprint import pprint\n",
        "\n",
        "pprint(dataset)\n",
        "raw_train_dataset = dataset[\"train\"]\n",
        "pprint(raw_train_dataset[0])"
      ]
    },
    {
      "cell_type": "markdown",
      "source": [
        "### 보유한 데이터 로드"
      ],
      "metadata": {
        "id": "7p4upAHQPFn-"
      }
    },
    {
      "cell_type": "code",
      "source": [
        "pwd"
      ],
      "metadata": {
        "id": "XPdgb504YLc5"
      },
      "execution_count": null,
      "outputs": []
    },
    {
      "cell_type": "markdown",
      "source": [
        "다운받아서 sample_data 폴더에 업로드 필요  \n",
        "https://github.com/bakky14/Writing/blob/main/src/sample.csv"
      ],
      "metadata": {
        "id": "MAHCfMtKYil2"
      }
    },
    {
      "cell_type": "code",
      "source": [
        "from datasets import load_dataset\n",
        "\n",
        "ratio = 80\n",
        "dataset = load_dataset(\n",
        "    path=\"csv\",\n",
        "    data_files=\"/content/sample_data/sample.csv\",\n",
        "    split={\n",
        "        \"train\": f\"train[:{ratio}%]\",\n",
        "        \"test\": f\"train[{ratio}%:]\",\n",
        "    },\n",
        ")\n",
        "dataset"
      ],
      "metadata": {
        "id": "jE6Jej4dPFDf"
      },
      "execution_count": null,
      "outputs": []
    },
    {
      "cell_type": "code",
      "source": [
        "!pip install huggingface-hub"
      ],
      "metadata": {
        "id": "-1uS2SSbayAv"
      },
      "execution_count": null,
      "outputs": []
    },
    {
      "cell_type": "code",
      "source": [
        "!hf auth login"
      ],
      "metadata": {
        "id": "bGUgx-16ZWhZ"
      },
      "execution_count": null,
      "outputs": []
    },
    {
      "cell_type": "code",
      "source": [
        "!git config --global credential.helper store"
      ],
      "metadata": {
        "id": "bg2-x57lZh_w"
      },
      "execution_count": null,
      "outputs": []
    },
    {
      "cell_type": "code",
      "source": [],
      "metadata": {
        "id": "VAmf7xFkagS6"
      },
      "execution_count": null,
      "outputs": []
    },
    {
      "cell_type": "code",
      "metadata": {
        "id": "e8cff327"
      },
      "source": [
        "!huggingface-cli login"
      ],
      "execution_count": null,
      "outputs": []
    },
    {
      "cell_type": "code",
      "source": [],
      "metadata": {
        "id": "CUyxDeZlbDku"
      },
      "execution_count": null,
      "outputs": []
    }
  ],
  "metadata": {
    "accelerator": "GPU",
    "colab": {
      "provenance": [],
      "include_colab_link": true
    },
    "kernelspec": {
      "display_name": "Python 3",
      "name": "python3"
    },
    "language_info": {
      "name": "python"
    }
  },
  "nbformat": 4,
  "nbformat_minor": 0
}