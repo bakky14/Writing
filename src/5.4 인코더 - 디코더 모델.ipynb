{
 "cells": [
  {
   "cell_type": "markdown",
   "id": "63a33736-f02c-47cb-bbf0-0f60c10edadb",
   "metadata": {},
   "source": [
    "# 5.4.2 Conditional Generation"
   ]
  },
  {
   "cell_type": "markdown",
   "id": "54dab824-6a3b-4e44-9e93-51fc44bbb16a",
   "metadata": {},
   "source": [
    "## 5.4.2.1 모델 구조 "
   ]
  },
  {
   "cell_type": "code",
   "execution_count": 9,
   "id": "030280e5-86cc-4e9a-b977-f268b181682c",
   "metadata": {},
   "outputs": [
    {
     "name": "stderr",
     "output_type": "stream",
     "text": [
      "You passed along `num_labels=3` with an incompatible id to label map: {'0': 'NEGATIVE', '1': 'POSITIVE'}. The number of labels wil be overwritten to 2.\n"
     ]
    },
    {
     "data": {
      "text/plain": [
       "BartForConditionalGeneration(\n",
       "  (model): BartModel(\n",
       "    (shared): Embedding(30000, 768, padding_idx=3)\n",
       "    (encoder): BartEncoder(\n",
       "      (embed_tokens): Embedding(30000, 768, padding_idx=3)\n",
       "      (embed_positions): BartLearnedPositionalEmbedding(1028, 768)\n",
       "      (layers): ModuleList(\n",
       "        (0-5): 6 x BartEncoderLayer(\n",
       "          (self_attn): BartAttention(\n",
       "            (k_proj): Linear(in_features=768, out_features=768, bias=True)\n",
       "            (v_proj): Linear(in_features=768, out_features=768, bias=True)\n",
       "            (q_proj): Linear(in_features=768, out_features=768, bias=True)\n",
       "            (out_proj): Linear(in_features=768, out_features=768, bias=True)\n",
       "          )\n",
       "          (self_attn_layer_norm): LayerNorm((768,), eps=1e-05, elementwise_affine=True)\n",
       "          (activation_fn): GELUActivation()\n",
       "          (fc1): Linear(in_features=768, out_features=3072, bias=True)\n",
       "          (fc2): Linear(in_features=3072, out_features=768, bias=True)\n",
       "          (final_layer_norm): LayerNorm((768,), eps=1e-05, elementwise_affine=True)\n",
       "        )\n",
       "      )\n",
       "      (layernorm_embedding): LayerNorm((768,), eps=1e-05, elementwise_affine=True)\n",
       "    )\n",
       "    (decoder): BartDecoder(\n",
       "      (embed_tokens): Embedding(30000, 768, padding_idx=3)\n",
       "      (embed_positions): BartLearnedPositionalEmbedding(1028, 768)\n",
       "      (layers): ModuleList(\n",
       "        (0-5): 6 x BartDecoderLayer(\n",
       "          (self_attn): BartAttention(\n",
       "            (k_proj): Linear(in_features=768, out_features=768, bias=True)\n",
       "            (v_proj): Linear(in_features=768, out_features=768, bias=True)\n",
       "            (q_proj): Linear(in_features=768, out_features=768, bias=True)\n",
       "            (out_proj): Linear(in_features=768, out_features=768, bias=True)\n",
       "          )\n",
       "          (activation_fn): GELUActivation()\n",
       "          (self_attn_layer_norm): LayerNorm((768,), eps=1e-05, elementwise_affine=True)\n",
       "          (encoder_attn): BartAttention(\n",
       "            (k_proj): Linear(in_features=768, out_features=768, bias=True)\n",
       "            (v_proj): Linear(in_features=768, out_features=768, bias=True)\n",
       "            (q_proj): Linear(in_features=768, out_features=768, bias=True)\n",
       "            (out_proj): Linear(in_features=768, out_features=768, bias=True)\n",
       "          )\n",
       "          (encoder_attn_layer_norm): LayerNorm((768,), eps=1e-05, elementwise_affine=True)\n",
       "          (fc1): Linear(in_features=768, out_features=3072, bias=True)\n",
       "          (fc2): Linear(in_features=3072, out_features=768, bias=True)\n",
       "          (final_layer_norm): LayerNorm((768,), eps=1e-05, elementwise_affine=True)\n",
       "        )\n",
       "      )\n",
       "      (layernorm_embedding): LayerNorm((768,), eps=1e-05, elementwise_affine=True)\n",
       "    )\n",
       "  )\n",
       "  (lm_head): Linear(in_features=768, out_features=30000, bias=False)\n",
       ")"
      ]
     },
     "execution_count": 9,
     "metadata": {},
     "output_type": "execute_result"
    }
   ],
   "source": [
    "from transformers import AutoTokenizer, AutoModelForSeq2SeqLM\n",
    "\n",
    "tokenizer = AutoTokenizer.from_pretrained('hyunwoongko/kobart')\n",
    "model = AutoModelForSeq2SeqLM.from_pretrained('hyunwoongko/kobart')\n",
    "model"
   ]
  },
  {
   "cell_type": "markdown",
   "id": "004a7c77-0866-4b13-b462-c9dd1813272d",
   "metadata": {},
   "source": [
    "## 5.4.2.2 데이터셋 구조 "
   ]
  },
  {
   "cell_type": "code",
   "execution_count": 23,
   "id": "44858dcb-3b4c-4a10-b781-c2a4b12de839",
   "metadata": {},
   "outputs": [
    {
     "name": "stdout",
     "output_type": "stream",
     "text": [
      "DatasetDict({\n",
      "    train: Dataset({\n",
      "        features: ['korean', 'english'],\n",
      "        num_rows: 166215\n",
      "    })\n",
      "    validation: Dataset({\n",
      "        features: ['korean', 'english'],\n",
      "        num_rows: 1958\n",
      "    })\n",
      "    test: Dataset({\n",
      "        features: ['korean', 'english'],\n",
      "        num_rows: 1982\n",
      "    })\n",
      "})\n"
     ]
    },
    {
     "data": {
      "text/plain": [
       "{'korean': '(박수) 이쪽은 Bill Lange 이고, 저는 David Gallo입니다',\n",
       " 'english': \"(Applause) David Gallo: This is Bill Lange. I'm Dave Gallo.\"}"
      ]
     },
     "execution_count": 23,
     "metadata": {},
     "output_type": "execute_result"
    }
   ],
   "source": [
    "from datasets import load_dataset\n",
    "\n",
    "dataset = load_dataset(\"msarmi9/korean-english-multitarget-ted-talks-task\")\n",
    "print(dataset)\n",
    "dataset['train'][0]"
   ]
  },
  {
   "cell_type": "code",
   "execution_count": 22,
   "id": "68f49c5b-3e18-4d2a-bb1b-65b23e8b9d50",
   "metadata": {
    "scrolled": true
   },
   "outputs": [
    {
     "data": {
      "application/vnd.jupyter.widget-view+json": {
       "model_id": "b06cc4e3b647461eb709fa36e418cda1",
       "version_major": 2,
       "version_minor": 0
      },
      "text/plain": [
       "Map (num_proc=2):   0%|          | 0/166215 [00:00<?, ? examples/s]"
      ]
     },
     "metadata": {},
     "output_type": "display_data"
    },
    {
     "data": {
      "application/vnd.jupyter.widget-view+json": {
       "model_id": "d0b0045bd369446eab3b15ee9313de98",
       "version_major": 2,
       "version_minor": 0
      },
      "text/plain": [
       "Map (num_proc=2):   0%|          | 0/1958 [00:00<?, ? examples/s]"
      ]
     },
     "metadata": {},
     "output_type": "display_data"
    },
    {
     "data": {
      "application/vnd.jupyter.widget-view+json": {
       "model_id": "5021516a36c64bfd81721de377226ebc",
       "version_major": 2,
       "version_minor": 0
      },
      "text/plain": [
       "Map (num_proc=2):   0%|          | 0/1982 [00:00<?, ? examples/s]"
      ]
     },
     "metadata": {},
     "output_type": "display_data"
    },
    {
     "data": {
      "text/plain": [
       "{'input_ids': [0,\n",
       "  14338,\n",
       "  10770,\n",
       "  11372,\n",
       "  240,\n",
       "  14025,\n",
       "  12471,\n",
       "  12005,\n",
       "  15085,\n",
       "  29490,\n",
       "  14676,\n",
       "  24508,\n",
       "  300,\n",
       "  14025,\n",
       "  14161,\n",
       "  16530,\n",
       "  15529,\n",
       "  296,\n",
       "  317,\n",
       "  18509,\n",
       "  15464,\n",
       "  15585,\n",
       "  20858,\n",
       "  12049,\n",
       "  20211,\n",
       "  1],\n",
       " 'attention_mask': [1,\n",
       "  1,\n",
       "  1,\n",
       "  1,\n",
       "  1,\n",
       "  1,\n",
       "  1,\n",
       "  1,\n",
       "  1,\n",
       "  1,\n",
       "  1,\n",
       "  1,\n",
       "  1,\n",
       "  1,\n",
       "  1,\n",
       "  1,\n",
       "  1,\n",
       "  1,\n",
       "  1,\n",
       "  1,\n",
       "  1,\n",
       "  1,\n",
       "  1,\n",
       "  1,\n",
       "  1,\n",
       "  1],\n",
       " 'labels': [0,\n",
       "  14338,\n",
       "  264,\n",
       "  311,\n",
       "  311,\n",
       "  17422,\n",
       "  316,\n",
       "  17223,\n",
       "  240,\n",
       "  15529,\n",
       "  296,\n",
       "  317,\n",
       "  18509,\n",
       "  15464,\n",
       "  15585,\n",
       "  20858,\n",
       "  257,\n",
       "  15054,\n",
       "  303,\n",
       "  15868,\n",
       "  1700,\n",
       "  15868,\n",
       "  15085,\n",
       "  29490,\n",
       "  14676,\n",
       "  24508,\n",
       "  300,\n",
       "  245,\n",
       "  14943,\n",
       "  238,\n",
       "  308,\n",
       "  15529,\n",
       "  296,\n",
       "  21518,\n",
       "  15464,\n",
       "  15585,\n",
       "  20858,\n",
       "  245,\n",
       "  1]}"
      ]
     },
     "execution_count": 22,
     "metadata": {},
     "output_type": "execute_result"
    }
   ],
   "source": [
    "tokenized_dataset = dataset.map(\n",
    "    lambda batch: (\n",
    "        tokenizer(\n",
    "            batch[\"korean\"], \n",
    "            text_target=batch[\"english\"], \n",
    "            max_length=512, \n",
    "            truncation=True,\n",
    "        )\n",
    "    ),\n",
    "    batched=True,\n",
    "    batch_size=1000,\n",
    "    num_proc=2,\n",
    "    remove_columns=dataset['train'].column_names,\n",
    ")\n",
    "tokenized_dataset['train'][0]"
   ]
  }
 ],
 "metadata": {
  "kernelspec": {
   "display_name": "Python 3 (ipykernel)",
   "language": "python",
   "name": "python3"
  },
  "language_info": {
   "codemirror_mode": {
    "name": "ipython",
    "version": 3
   },
   "file_extension": ".py",
   "mimetype": "text/x-python",
   "name": "python",
   "nbconvert_exporter": "python",
   "pygments_lexer": "ipython3",
   "version": "3.9.16"
  }
 },
 "nbformat": 4,
 "nbformat_minor": 5
}
