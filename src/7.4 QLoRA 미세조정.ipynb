{
 "cells": [
  {
   "cell_type": "code",
   "execution_count": null,
   "id": "0ccc6284-a381-47d8-93ef-51edace63cfc",
   "metadata": {},
   "outputs": [],
   "source": [
    "!pip install -U bitsandbytes accelerate transformers"
   ]
  },
  {
   "cell_type": "markdown",
   "id": "fe4988ed-b378-4c7a-a664-d2514c1f2523",
   "metadata": {},
   "source": [
    "# 데이터셋"
   ]
  },
  {
   "cell_type": "code",
   "execution_count": null,
   "id": "93a4f224-dc21-4ca5-b732-ea22beceb70c",
   "metadata": {},
   "outputs": [],
   "source": [
    "from datasets import load_dataset\n",
    "\n",
    "dataset = load_dataset(\"klue\", \"mrc\")\n",
    "dataset['train'][0]"
   ]
  },
  {
   "cell_type": "code",
   "execution_count": null,
   "id": "f71ba1ae-fa3a-438d-8c29-38b11d19f88e",
   "metadata": {},
   "outputs": [],
   "source": [
    "from transformers import (\n",
    "    AutoModelForCausalLM, \n",
    "    AutoTokenizer, \n",
    "    GenerationConfig,\n",
    ")\n",
    "import torch\n",
    "\n",
    "model = AutoModelForCausalLM.from_pretrained(\n",
    "    \"nlpai-lab/ko-gemma-2b-v1\",\n",
    "    torch_dtype=torch.float16,\n",
    "    device_map=\"auto\",\n",
    ")\n",
    "tokenizer = AutoTokenizer.from_pretrained(\n",
    "    \"nlpai-lab/ko-gemma-2b-v1\"\n",
    ")\n",
    "\n",
    "doc = dataset[\"train\"]['question'][0]\n",
    "messages = [{\"role\": \"user\", \"content\": doc}]\n",
    "\n",
    "inputs = tokenizer.apply_chat_template(\n",
    "    messages,\n",
    "    add_generation_prompt=True,\n",
    "    return_tensors=\"pt\",\n",
    ")\n",
    "\n",
    "gen_cfg = GenerationConfig(\n",
    "    max_new_tokens=512,\n",
    "    do_sample=True,\n",
    "    top_k=50,\n",
    "    top_p=0.92,\n",
    "    return_full_text=False,\n",
    "    eos_token_id=tokenizer.eos_token_id,\n",
    ")"
   ]
  },
  {
   "cell_type": "code",
   "execution_count": null,
   "id": "8bfe92a8-7271-4695-9ece-49a5245a2f83",
   "metadata": {},
   "outputs": [],
   "source": [
    "with torch.no_grad():\n",
    "    outputs = model.generate(\n",
    "        input_ids=inputs.to(model.device), \n",
    "        generation_config=gen_cfg,\n",
    "    )\n",
    "    print(tokenizer.decode(outputs[0].cpu().numpy()))"
   ]
  }
 ],
 "metadata": {
  "kernelspec": {
   "display_name": "Python 3 (ipykernel)",
   "language": "python",
   "name": "python3"
  },
  "language_info": {
   "codemirror_mode": {
    "name": "ipython",
    "version": 3
   },
   "file_extension": ".py",
   "mimetype": "text/x-python",
   "name": "python",
   "nbconvert_exporter": "python",
   "pygments_lexer": "ipython3",
   "version": "3.10.13"
  }
 },
 "nbformat": 4,
 "nbformat_minor": 5
}
