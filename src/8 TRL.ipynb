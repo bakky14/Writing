{
 "cells": [
  {
   "cell_type": "markdown",
   "id": "5496dae6-0c2d-46c3-aee5-af396d044b7b",
   "metadata": {},
   "source": [
    "# 8.2 Reward Model"
   ]
  },
  {
   "cell_type": "code",
   "execution_count": null,
   "id": "8b5cfa2f-30ae-4412-8291-517d8450bf35",
   "metadata": {},
   "outputs": [],
   "source": []
  },
  {
   "cell_type": "markdown",
   "id": "15a35476-651a-40f6-869c-e8151aa98afa",
   "metadata": {},
   "source": [
    "# 8.3 SFT: Supervised Fine-Tuning"
   ]
  },
  {
   "cell_type": "code",
   "execution_count": 2,
   "id": "56979986-cc5f-431d-a736-21f98065151e",
   "metadata": {},
   "outputs": [
    {
     "name": "stdout",
     "output_type": "stream",
     "text": [
      "Help on function setup_chat_format in module trl.models.utils:\n",
      "\n",
      "setup_chat_format(model: transformers.modeling_utils.PreTrainedModel, tokenizer: transformers.tokenization_utils.PreTrainedTokenizer, format: Optional[Literal['chatml']] = 'chatml', resize_to_multiple_of: Optional[int] = None) -> Tuple[transformers.modeling_utils.PreTrainedModel, transformers.tokenization_utils.PreTrainedTokenizer]\n",
      "    Setup chat format by adding special tokens to the tokenizer, setting the correct format, and extending the embedding layer of the model based on the new special tokens.\n",
      "    \n",
      "    Args:\n",
      "      model (`~transformers.PreTrainedModel`): The model to be modified.\n",
      "      tokenizer (`~transformers.PreTrainedTokenizer`): The tokenizer to be modified.\n",
      "      format (`Optional[Literal[\"chatml\"]]`): The format to be set. Defaults to \"chatml\".\n",
      "      resize_to_multiple_of (`Optional[int]`): Number to resize the embedding layer to. Defaults to None.\n",
      "    Returns:\n",
      "      model (`~transformers.PreTrainedModel`): The modified model.\n",
      "      tokenizer (`~transformers.PreTrainedTokenizer`): The modified tokenizer.\n",
      "\n"
     ]
    }
   ],
   "source": [
    "from trl import setup_chat_format\n",
    "\n",
    "\n",
    "help(setup_chat_format)"
   ]
  },
  {
   "cell_type": "code",
   "execution_count": null,
   "id": "b12a2fd8-d077-477d-8a90-5cf862d5238a",
   "metadata": {},
   "outputs": [],
   "source": [
    "from datasets import load_dataset\n",
    "from trl import SFTTrainer\n",
    "\n",
    "dataset = load_dataset(\"imdb\", split=\"train\")\n",
    "\n",
    "trainer = SFTTrainer(\n",
    "    \"facebook/opt-350m\",\n",
    "    train_dataset=dataset,\n",
    "    dataset_text_field=\"text\",\n",
    "    max_seq_length=512,\n",
    ")\n",
    "trainer.train()"
   ]
  },
  {
   "cell_type": "markdown",
   "id": "4ca0099b-f7b3-4adf-acdd-2965272152e7",
   "metadata": {},
   "source": [
    "# 8.4 PPO: Proximal Policy Optimization\n"
   ]
  },
  {
   "cell_type": "code",
   "execution_count": null,
   "id": "af7d1cfb-7f23-4c2a-9076-cf418475e7ae",
   "metadata": {},
   "outputs": [],
   "source": []
  },
  {
   "cell_type": "markdown",
   "id": "cd4f05fe-ffa6-4c8f-bf38-787ad4643659",
   "metadata": {},
   "source": [
    "# 8.5 Best of N Sampling"
   ]
  },
  {
   "cell_type": "code",
   "execution_count": null,
   "id": "87a53734-522b-4f73-a684-de930a0d5591",
   "metadata": {},
   "outputs": [],
   "source": []
  },
  {
   "cell_type": "markdown",
   "id": "30df7066-88e8-4b18-a4f1-aeb81affbab2",
   "metadata": {},
   "source": [
    "# 8.6 DPO: Directi Preference Optimization\n"
   ]
  },
  {
   "cell_type": "code",
   "execution_count": null,
   "id": "137b9de5-2ad5-49a5-bf76-44fc4e51250c",
   "metadata": {},
   "outputs": [],
   "source": []
  },
  {
   "cell_type": "markdown",
   "id": "8d7c0149-1111-4225-aca4-a3e47efcf6c5",
   "metadata": {},
   "source": [
    "# 8.7 KTO: Kahneman-Tversky Optimization"
   ]
  },
  {
   "cell_type": "code",
   "execution_count": null,
   "id": "667bfd19-05b1-4194-874d-0adfe4bc0bd6",
   "metadata": {},
   "outputs": [],
   "source": []
  }
 ],
 "metadata": {
  "kernelspec": {
   "display_name": "Python 3 (ipykernel)",
   "language": "python",
   "name": "python3"
  },
  "language_info": {
   "codemirror_mode": {
    "name": "ipython",
    "version": 3
   },
   "file_extension": ".py",
   "mimetype": "text/x-python",
   "name": "python",
   "nbconvert_exporter": "python",
   "pygments_lexer": "ipython3",
   "version": "3.10.13"
  }
 },
 "nbformat": 4,
 "nbformat_minor": 5
}
